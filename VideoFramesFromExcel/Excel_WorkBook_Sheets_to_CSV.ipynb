{
 "cells": [
  {
   "cell_type": "code",
   "execution_count": 6,
   "id": "2d66f18c",
   "metadata": {},
   "outputs": [],
   "source": [
    "\"\"\"\n",
    "Created on Wed Oct  25  2022\n",
    "\n",
    "@author: emmanuel_bamidele\n",
    "\"\"\"\n",
    "\n",
    "def Each_Sheet_2_CSV(filepath, output_path, num_sheets):\n",
    "    import pandas as pd\n",
    "\n",
    "    file_path = filepath\n",
    "    df_dict = pd.read_excel(file_path, sheet_name = None)\n",
    "\n",
    "    sheet_count = [*range(1,num_sheets+1,1)]\n",
    "    Sheets = ['Sheet'+ str(x) for x in sheet_count]\n",
    "    dfs = ['df_'+ str(x) for x in sheet_count]\n",
    "\n",
    "    for i in range(num_sheets):\n",
    "        outputPath = output_path + dfs[i] + \".csv\"\n",
    "\n",
    "        df_now = df_dict.get(Sheets[i])\n",
    "        df_now.to_csv(outputPath, index=False, sep=',')\n",
    "        \n",
    "    return\n",
    "\n",
    "if __name__ == '__main__':\n",
    "    Each_Sheet_2_CSV(filepath = r\"C:\\Users\\bamid\\Desktop\\Phd Data\\Video_Sheet\\Video_Sheet_W_Flash.xlsx\",\n",
    "               output_path = r\"C:\\Users\\bamid\\Desktop\\Phd Data\\Video_Sheet\\Output\\\\\", num_sheets=52)"
   ]
  }
 ],
 "metadata": {
  "kernelspec": {
   "display_name": "Python 3 (ipykernel)",
   "language": "python",
   "name": "python3"
  },
  "language_info": {
   "codemirror_mode": {
    "name": "ipython",
    "version": 3
   },
   "file_extension": ".py",
   "mimetype": "text/x-python",
   "name": "python",
   "nbconvert_exporter": "python",
   "pygments_lexer": "ipython3",
   "version": "3.9.7"
  }
 },
 "nbformat": 4,
 "nbformat_minor": 5
}
